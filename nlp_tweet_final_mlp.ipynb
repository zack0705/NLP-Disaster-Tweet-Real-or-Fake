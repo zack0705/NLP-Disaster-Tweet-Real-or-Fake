{
  "nbformat": 4,
  "nbformat_minor": 0,
  "metadata": {
    "kernelspec": {
      "display_name": "Python 3",
      "language": "python",
      "name": "python3"
    },
    "language_info": {
      "codemirror_mode": {
        "name": "ipython",
        "version": 3
      },
      "file_extension": ".py",
      "mimetype": "text/x-python",
      "name": "python",
      "nbconvert_exporter": "python",
      "pygments_lexer": "ipython3",
      "version": "3.7.4"
    },
    "colab": {
      "name": "nlp_tweet_final_mlp.ipynb",
      "provenance": []
    }
  },
  "cells": [
    {
      "cell_type": "code",
      "metadata": {
        "id": "tnsauFUqFFKA"
      },
      "source": [
        "import pandas as pd\n",
        "import numpy as np\n",
        "import seaborn as sns\n",
        "import matplotlib.pyplot as plt\n",
        "import re\n",
        "import string\n",
        "\n",
        "from string import punctuation\n",
        "from collections import defaultdict\n",
        "from nltk import FreqDist\n",
        "from sklearn.linear_model import LogisticRegression\n",
        "from sklearn.pipeline import make_pipeline\n",
        "from sklearn.feature_extraction.text import CountVectorizer\n",
        "from sklearn.neural_network import MLPClassifier\n",
        "from sklearn.feature_extraction.text import TfidfVectorizer"
      ],
      "execution_count": null,
      "outputs": []
    },
    {
      "cell_type": "code",
      "metadata": {
        "id": "80TLNBq9FFKa"
      },
      "source": [
        "train = pd.read_csv('train.csv')\n",
        "test = pd.read_csv('test.csv')\n",
        "gt = pd.read_csv('submission.csv')"
      ],
      "execution_count": null,
      "outputs": []
    },
    {
      "cell_type": "markdown",
      "metadata": {
        "id": "uFjEbnTrFFKj"
      },
      "source": [
        "# Analyze the data"
      ]
    },
    {
      "cell_type": "code",
      "metadata": {
        "id": "8klRd01NFFKl",
        "colab": {
          "base_uri": "https://localhost:8080/",
          "height": 282
        },
        "outputId": "051973a5-137a-4a19-f2dd-bd4f563abadc"
      },
      "source": [
        "x=train.target.value_counts()\n",
        "sns.barplot(x.index,x)\n",
        "plt.gca().set_ylabel('samples')"
      ],
      "execution_count": null,
      "outputs": [
        {
          "output_type": "execute_result",
          "data": {
            "text/plain": [
              "Text(0, 0.5, 'samples')"
            ]
          },
          "metadata": {
            "tags": []
          },
          "execution_count": 28
        },
        {
          "output_type": "display_data",
          "data": {
            "image/png": "[encoded data removed]",
            "text/plain": [
              "<Figure size 432x288 with 1 Axes>"
            ]
          },
          "metadata": {
            "tags": [],
            "needs_background": "light"
          }
        }
      ]
    },
    {
      "cell_type": "markdown",
      "metadata": {
        "id": "xr4I0SuSFFKt"
      },
      "source": [
        "#### Number of characters in tweets"
      ]
    },
    {
      "cell_type": "code",
      "metadata": {
        "id": "_-_DD_9RFFKv",
        "colab": {
          "base_uri": "https://localhost:8080/",
          "height": 356
        },
        "outputId": "d4059664-6073-4d8d-88a4-ebaef86576bc"
      },
      "source": [
        "fig, (ax1, ax2) = plt.subplots(1, 2, figsize=(10,5))\n",
        "tweet_len = train[train['target']==1]['text'].str.len()\n",
        "ax1.hist(tweet_len, color='red')\n",
        "ax1.set_title('Disaster tweets')\n",
        "\n",
        "tweet_len = train[train['target']==0]['text'].str.len()\n",
        "ax2.hist(tweet_len, color='green')\n",
        "ax2.set_title('Not disaster tweets')\n",
        "\n",
        "fig.suptitle('Characters in tweets')\n",
        "plt.show()"
      ],
      "execution_count": null,
      "outputs": [
        {
          "output_type": "display_data",
          "data": {
            "image/png": "[encoded data removed]",
            "text/plain": [
              "<Figure size 720x360 with 2 Axes>"
            ]
          },
          "metadata": {
            "tags": [],
            "needs_background": "light"
          }
        }
      ]
    },
    {
      "cell_type": "markdown",
      "metadata": {
        "id": "0qYt-gQHFFK3"
      },
      "source": [
        "#### Number of words in a tweets"
      ]
    },
    {
      "cell_type": "code",
      "metadata": {
        "id": "2-VaaHmfFFK5",
        "colab": {
          "base_uri": "https://localhost:8080/",
          "height": 356
        },
        "outputId": "08b04cef-5f51-4be4-b0f7-01c05985897d"
      },
      "source": [
        "fig, (ax1, ax2) = plt.subplots(1, 2, figsize=(10,5))\n",
        "num_words = train[train['target']==1]['text'].str.split().map(lambda x: len(x))\n",
        "ax1.hist(num_words, color='red')\n",
        "ax1.set_title('Disaster tweets')\n",
        "\n",
        "num_words = train[train['target']==0]['text'].str.split().map(lambda x: len(x))\n",
        "ax2.hist(num_words, color='green')\n",
        "ax2.set_title('Non disaster tweets')\n",
        "\n",
        "fig.suptitle('Words in a tweets')\n",
        "plt.show()"
      ],
      "execution_count": null,
      "outputs": [
        {
          "output_type": "display_data",
          "data": {
            "image/png": "[encoded data removed]",
            "text/plain": [
              "<Figure size 720x360 with 2 Axes>"
            ]
          },
          "metadata": {
            "tags": [],
            "needs_background": "light"
          }
        }
      ]
    },
    {
      "cell_type": "markdown",
      "metadata": {
        "id": "lrA3aHafFFLB"
      },
      "source": [
        "#### Average word length in a tweet"
      ]
    },
    {
      "cell_type": "code",
      "metadata": {
        "id": "-N_j2C0wFFLC",
        "colab": {
          "base_uri": "https://localhost:8080/",
          "height": 387
        },
        "outputId": "37b3a9d2-eadc-462e-8ba4-08327f77cfa3"
      },
      "source": [
        "fig, (ax1, ax2) = plt.subplots(1, 2, figsize=(10,5))\n",
        "word = train[train['target']==1]['text'].str.split().apply(lambda x: [len(i) for i in x])\n",
        "sns.distplot(word.map(lambda x: np.mean(x)), ax=ax1, color='red')\n",
        "ax1.set_title('Disaster tweets')\n",
        "\n",
        "word = train[train['target']==0]['text'].str.split().apply(lambda x: [len(i) for i in x])\n",
        "sns.distplot(word.map(lambda x: np.mean(x)), ax=ax2, color='green')\n",
        "ax2.set_title('Non disaster tweets')\n",
        "\n",
        "fig.suptitle('Average word length in each tweet')"
      ],
      "execution_count": null,
      "outputs": [
        {
          "output_type": "execute_result",
          "data": {
            "text/plain": [
              "Text(0.5, 0.98, 'Average word length in each tweet')"
            ]
          },
          "metadata": {
            "tags": []
          },
          "execution_count": 31
        },
        {
          "output_type": "display_data",
          "data": {
            "image/png": "[encoded data removed]",
            "text/plain": [
              "<Figure size 720x360 with 2 Axes>"
            ]
          },
          "metadata": {
            "tags": [],
            "needs_background": "light"
          }
        }
      ]
    },
    {
      "cell_type": "markdown",
      "metadata": {
        "id": "LpOKGvs_FFLI"
      },
      "source": [
        "#### Common words in tweets"
      ]
    },
    {
      "cell_type": "code",
      "metadata": {
        "id": "qsRePSawFFLJ"
      },
      "source": [
        "text_disaster = train[train['target']==1]['text'].str.split()\n",
        "text_Nodisaster = train[train['target']==0]['text'].str.split()"
      ],
      "execution_count": null,
      "outputs": []
    },
    {
      "cell_type": "code",
      "metadata": {
        "id": "2TQLsDsvFFLQ",
        "colab": {
          "base_uri": "https://localhost:8080/",
          "height": 678
        },
        "outputId": "618c2c4b-8560-4c4e-8033-bb75b61390f4"
      },
      "source": [
        "fdist = FreqDist(word.lower() for sentence in text_disaster for word in sentence)\n",
        "fdist.plot(10, title=\"Disaster tweets\")\n",
        "\n",
        "dic=defaultdict(int)\n",
        "punct = [fdist[p] for p in punctuation]\n",
        "plt.figure(figsize=(12, 6))\n",
        "sns.barplot(punct, list(punctuation))"
      ],
      "execution_count": null,
      "outputs": [
        {
          "output_type": "display_data",
          "data": {
            "image/png": "[encoded data removed]",
            "text/plain": [
              "<Figure size 432x288 with 1 Axes>"
            ]
          },
          "metadata": {
            "tags": [],
            "needs_background": "light"
          }
        },
        {
          "output_type": "execute_result",
          "data": {
            "text/plain": [
              "<matplotlib.axes._subplots.AxesSubplot at 0x7f3f13d03e10>"
            ]
          },
          "metadata": {
            "tags": []
          },
          "execution_count": 33
        },
        {
          "output_type": "display_data",
          "data": {
            "image/png": "[encoded data removed]",
            "text/plain": [
              "<Figure size 864x432 with 1 Axes>"
            ]
          },
          "metadata": {
            "tags": [],
            "needs_background": "light"
          }
        }
      ]
    },
    {
      "cell_type": "code",
      "metadata": {
        "id": "KbviTAuoFFLX",
        "colab": {
          "base_uri": "https://localhost:8080/",
          "height": 678
        },
        "outputId": "4ad069fc-5e50-4ae0-d785-35f15447988f"
      },
      "source": [
        "fdist = FreqDist(word.lower() for sentence in text_Nodisaster for word in sentence)\n",
        "fdist.plot(10, title=\"Non disaster tweets\")\n",
        "\n",
        "dic=defaultdict(int)\n",
        "punct = [fdist[p] for p in punctuation]\n",
        "plt.figure(figsize=(12, 6))\n",
        "sns.barplot(punct, list(punctuation))"
      ],
      "execution_count": null,
      "outputs": [
        {
          "output_type": "display_data",
          "data": {
            "image/png": "[encoded data removed]",
            "text/plain": [
              "<Figure size 432x288 with 1 Axes>"
            ]
          },
          "metadata": {
            "tags": [],
            "needs_background": "light"
          }
        },
        {
          "output_type": "execute_result",
          "data": {
            "text/plain": [
              "<matplotlib.axes._subplots.AxesSubplot at 0x7f3f13bb3eb8>"
            ]
          },
          "metadata": {
            "tags": []
          },
          "execution_count": 34
        },
        {
          "output_type": "display_data",
          "data": {
            "image/png": "[encoded data removed]",
            "text/plain": [
              "<Figure size 864x432 with 1 Axes>"
            ]
          },
          "metadata": {
            "tags": [],
            "needs_background": "light"
          }
        }
      ]
    },
    {
      "cell_type": "markdown",
      "metadata": {
        "id": "u5YvDjOpFFLe"
      },
      "source": [
        "#### Bigram analysis"
      ]
    },
    {
      "cell_type": "code",
      "metadata": {
        "id": "lyDFFwCzFFLf"
      },
      "source": [
        "def get_top_tweet_bigram(corpus, n=None):\n",
        "    vec = CountVectorizer(ngram_range=(2, 2)).fit(corpus)\n",
        "    bag_of_words = vec.transform(corpus)\n",
        "    sum_words = bag_of_words.sum(axis=0) \n",
        "    words_freq = [(word, sum_words[0, idx]) for word, idx in vec.vocabulary_.items()]\n",
        "    \n",
        "    words_freq =sorted(words_freq, key = lambda x: x[1], reverse=True)\n",
        "    return words_freq[:n]"
      ],
      "execution_count": null,
      "outputs": []
    },
    {
      "cell_type": "code",
      "metadata": {
        "id": "YPFMr04SFFLm",
        "colab": {
          "base_uri": "https://localhost:8080/",
          "height": 337
        },
        "outputId": "650e78e1-6c6c-423f-ffc0-33b427a737c3"
      },
      "source": [
        "plt.figure(figsize=(10,5))\n",
        "top_tweet_bigram = get_top_tweet_bigram(train['text'].tolist())[:10]\n",
        "x,y = map(list, zip(*top_tweet_bigram))\n",
        "sns.barplot(y,x)"
      ],
      "execution_count": null,
      "outputs": [
        {
          "output_type": "execute_result",
          "data": {
            "text/plain": [
              "<matplotlib.axes._subplots.AxesSubplot at 0x7f3f16e356d8>"
            ]
          },
          "metadata": {
            "tags": []
          },
          "execution_count": 36
        },
        {
          "output_type": "display_data",
          "data": {
            "image/png": "[encoded data removed]",
            "text/plain": [
              "<Figure size 720x360 with 1 Axes>"
            ]
          },
          "metadata": {
            "tags": [],
            "needs_background": "light"
          }
        }
      ]
    },
    {
      "cell_type": "markdown",
      "metadata": {
        "id": "jteepFcxFFLt"
      },
      "source": [
        "# Clean the data"
      ]
    },
    {
      "cell_type": "code",
      "metadata": {
        "id": "yteCSu1mFFLu"
      },
      "source": [
        "train = train.fillna('.')\n",
        "test = test.fillna('.')"
      ],
      "execution_count": null,
      "outputs": []
    },
    {
      "cell_type": "code",
      "metadata": {
        "id": "-5DJ70fIFFL0"
      },
      "source": [
        "def remove_URL(text):\n",
        "    url = re.compile(r'https?://\\S+|www\\.\\S+')\n",
        "    return url.sub(r'',text)"
      ],
      "execution_count": null,
      "outputs": []
    },
    {
      "cell_type": "code",
      "metadata": {
        "id": "QgAUee0CFFL6"
      },
      "source": [
        "def remove_emoji(text):\n",
        "    emoji_pattern = re.compile(\"[\"\n",
        "                           u\"\\U0001F600-\\U0001F64F\"  # emoticons\n",
        "                           u\"\\U0001F300-\\U0001F5FF\"  # symbols & pictographs\n",
        "                           u\"\\U0001F680-\\U0001F6FF\"  # transport & map symbols\n",
        "                           u\"\\U0001F1E0-\\U0001F1FF\"  # flags (iOS)\n",
        "                           u\"\\U00002702-\\U000027B0\"\n",
        "                           u\"\\U000024C2-\\U0001F251\"\n",
        "                           \"]+\", flags=re.UNICODE)\n",
        "    return emoji_pattern.sub(r'', text)"
      ],
      "execution_count": null,
      "outputs": []
    },
    {
      "cell_type": "code",
      "metadata": {
        "id": "LxtTTgqtFFL_"
      },
      "source": [
        "def remove_punct(text):\n",
        "    table=str.maketrans('','',string.punctuation)\n",
        "    return text.translate(table)"
      ],
      "execution_count": null,
      "outputs": []
    },
    {
      "cell_type": "code",
      "metadata": {
        "id": "LdeSGzHxFFMF"
      },
      "source": [
        "def preprocessing(re_URL=False, re_emoji=False, re_punct=False):\n",
        "    data_train = train['keyword'] +' '+ train['location'] +' '+ train['text']\n",
        "    data_test = test['keyword'] +' '+ test['location'] +' '+ test['text']\n",
        "\n",
        "    if re_URL:\n",
        "        data_train = data_train.apply(lambda x : remove_URL(x))\n",
        "        data_test = data_test.apply(lambda x : remove_URL(x))\n",
        "        print(\"URL Removed\")\n",
        "    if re_emoji:\n",
        "        data_train = data_train.apply(lambda x : remove_emoji(x))\n",
        "        data_test = data_test.apply(lambda x : remove_emoji(x))\n",
        "        print(\"Emoji Removed\")\n",
        "    if re_punct:\n",
        "        data_train = data_train.apply(lambda x : remove_punct(x))     \n",
        "        data_test = data_test.apply(lambda x : remove_punct(x))\n",
        "        print(\"Punctuation Removed\")\n",
        "    return data_train, data_test"
      ],
      "execution_count": null,
      "outputs": []
    },
    {
      "cell_type": "markdown",
      "metadata": {
        "id": "rlBb1vr9FFMK"
      },
      "source": [
        "# Model Training"
      ]
    },
    {
      "cell_type": "code",
      "metadata": {
        "id": "_8HS6abyFFMK"
      },
      "source": [
        "def fit_and_predict(vec, clf, X_train, y_train):\n",
        "    pipe = make_pipeline(vec, clf)\n",
        "    pipe.fit(X_train, y_train)\n",
        "    \n",
        "    y_test = gt['target'].tolist()\n",
        "    acc = pipe.score(X_test, y_test)\n",
        "    print(\"Accuracy: \", acc)"
      ],
      "execution_count": null,
      "outputs": []
    },
    {
      "cell_type": "markdown",
      "metadata": {
        "id": "8wtqR1fyFFMP"
      },
      "source": [
        "#### Baseline"
      ]
    },
    {
      "cell_type": "code",
      "metadata": {
        "id": "65TUAWeCFFMQ",
        "colab": {
          "base_uri": "https://localhost:8080/",
          "height": 34
        },
        "outputId": "fed3e348-a7b8-4512-9f67-90c790321ec9"
      },
      "source": [
        "train['sums'] = train['keyword'] +' '+ train['location'] +' '+ train['text']\n",
        "test['sums'] = test['keyword'] +' '+ test['location'] +' '+ test['text']\n",
        "\n",
        "X_train = train['sums'].tolist()\n",
        "y_train = train['target'].tolist()\n",
        "X_test = test['sums'].tolist()\n",
        "\n",
        "vec = CountVectorizer(ngram_range=(1,2))\n",
        "clf = LogisticRegression()\n",
        "fit_and_predict(vec, clf, X_train, y_train)"
      ],
      "execution_count": null,
      "outputs": [
        {
          "output_type": "stream",
          "text": [
            "Accuracy:  0.7955868832362857\n"
          ],
          "name": "stdout"
        }
      ]
    },
    {
      "cell_type": "markdown",
      "metadata": {
        "id": "yKGgHHShFFMW"
      },
      "source": [
        "#### Baseline add stopword"
      ]
    },
    {
      "cell_type": "markdown",
      "metadata": {
        "id": "fUTBm_gkg5Qe"
      },
      "source": [
        "Logistic Regression + Count Vectorizer"
      ]
    },
    {
      "cell_type": "code",
      "metadata": {
        "id": "FsXIuOaPFFMX",
        "colab": {
          "base_uri": "https://localhost:8080/",
          "height": 34
        },
        "outputId": "596c7de6-d7ba-418c-9572-d1331ec41d97"
      },
      "source": [
        "train['sums'] = train['keyword'] +' '+ train['location'] +' '+ train['text']\n",
        "test['sums'] = test['keyword'] +' '+ test['location'] +' '+ test['text']\n",
        "\n",
        "X_train = train['sums'].tolist()\n",
        "y_train = train['target'].tolist()\n",
        "X_test = test['sums'].tolist()\n",
        "\n",
        "vec = CountVectorizer(ngram_range=(1,2), lowercase=True, stop_words='english')\n",
        "clf = LogisticRegression()\n",
        "fit_and_predict(vec, clf, X_train, y_train)"
      ],
      "execution_count": null,
      "outputs": [
        {
          "output_type": "stream",
          "text": [
            "Accuracy:  0.8035550107263255\n"
          ],
          "name": "stdout"
        }
      ]
    },
    {
      "cell_type": "markdown",
      "metadata": {
        "id": "R27VJbA_g99V"
      },
      "source": [
        "MLP Classifier + Count Vectorizer"
      ]
    },
    {
      "cell_type": "code",
      "metadata": {
        "id": "7NKp9yIQTo8S",
        "colab": {
          "base_uri": "https://localhost:8080/",
          "height": 34
        },
        "outputId": "d5d988bb-3190-44d4-a39f-612a277c54ce"
      },
      "source": [
        "vec2 = CountVectorizer(ngram_range=(1, 2)).fit(X_train+X_test)\n",
        "bag_of_words_train = vec2.transform(X_train)\n",
        "bag_of_words_test = vec2.transform(X_test)\n",
        "\n",
        "model = MLPClassifier()\n",
        "model.fit(bag_of_words_train, np.array(y_train))\n",
        "y_test = gt['target'].tolist()\n",
        "\n",
        "acc = model.score(bag_of_words_test, np.array(y_test))\n",
        "print(\"Accuracy: \",acc)"
      ],
      "execution_count": null,
      "outputs": [
        {
          "output_type": "stream",
          "text": [
            "Accuracy:  0.7906834201654919\n"
          ],
          "name": "stdout"
        }
      ]
    },
    {
      "cell_type": "markdown",
      "metadata": {
        "id": "yG8cuNolhC8M"
      },
      "source": [
        "MLP Classifier + Tfidf Vectorizer"
      ]
    },
    {
      "cell_type": "code",
      "metadata": {
        "id": "jQnYUkq_gWf2",
        "colab": {
          "base_uri": "https://localhost:8080/",
          "height": 34
        },
        "outputId": "2c796c07-05a7-47f4-b024-17bf9efb3207"
      },
      "source": [
        "vec3 = TfidfVectorizer(ngram_range=(1, 2)).fit(X_train+X_test)\n",
        "bag_of_words_train_TC = vec3.transform(X_train)\n",
        "bag_of_words_test_TC = vec3.transform(X_test)\n",
        "\n",
        "model = MLPClassifier()\n",
        "model.fit(bag_of_words_train_TC, np.array(y_train))\n",
        "\n",
        "y_test = gt['target'].tolist()\n",
        "\n",
        "acc = model.score(bag_of_words_test_TC, np.array(y_test))\n",
        "print(\"Accuracy: \",acc)"
      ],
      "execution_count": null,
      "outputs": [
        {
          "output_type": "stream",
          "text": [
            "Accuracy:  0.7974256818878332\n"
          ],
          "name": "stdout"
        }
      ]
    },
    {
      "cell_type": "markdown",
      "metadata": {
        "id": "yxpwo3IfFFMb"
      },
      "source": [
        "#### Remove URL, emoji, and punctuation"
      ]
    },
    {
      "cell_type": "code",
      "metadata": {
        "id": "ZbCwEt6rFFMd",
        "colab": {
          "base_uri": "https://localhost:8080/",
          "height": 84
        },
        "outputId": "1f52ed03-2272-425d-bb98-724fab24619a"
      },
      "source": [
        "train['sums'], test['sums'] = preprocessing(re_URL=True, re_emoji=True, re_punct=True)\n",
        "X_train = train['sums'].tolist()\n",
        "y_train = train['target'].tolist()\n",
        "X_test = test['sums'].tolist()\n",
        "\n",
        "vec = CountVectorizer(ngram_range=(1,2), lowercase=True, stop_words='english')\n",
        "clf = LogisticRegression()\n",
        "fit_and_predict(vec, clf, X_train, y_train)"
      ],
      "execution_count": null,
      "outputs": [
        {
          "output_type": "stream",
          "text": [
            "URL Removed\n",
            "Emoji Removed\n",
            "Punctuation Removed\n",
            "Accuracy:  0.7971192154459087\n"
          ],
          "name": "stdout"
        }
      ]
    },
    {
      "cell_type": "markdown",
      "metadata": {
        "id": "cfgtnda7FFMj"
      },
      "source": [
        "#### Remove URL and punctuation"
      ]
    },
    {
      "cell_type": "code",
      "metadata": {
        "id": "R_qB_AzMFFMk",
        "colab": {
          "base_uri": "https://localhost:8080/",
          "height": 67
        },
        "outputId": "4392401e-771b-4d8d-ba64-c267b37999e8"
      },
      "source": [
        "train['sums'], test['sums'] = preprocessing(re_URL=True, re_emoji=False, re_punct=True)\n",
        "X_train = train['sums'].tolist()\n",
        "y_train = train['target'].tolist()\n",
        "X_test = test['sums'].tolist()\n",
        "\n",
        "vec = CountVectorizer(ngram_range=(1,2), lowercase=True, stop_words='english')\n",
        "clf = LogisticRegression()\n",
        "fit_and_predict(vec, clf, X_train, y_train)"
      ],
      "execution_count": null,
      "outputs": [
        {
          "output_type": "stream",
          "text": [
            "URL Removed\n",
            "Punctuation Removed\n",
            "Accuracy:  0.7971192154459087\n"
          ],
          "name": "stdout"
        }
      ]
    },
    {
      "cell_type": "markdown",
      "metadata": {
        "id": "vqmn4rJSFFMo"
      },
      "source": [
        "#### Remove punctuation"
      ]
    },
    {
      "cell_type": "code",
      "metadata": {
        "id": "3fP7Y3HfFFMq",
        "colab": {
          "base_uri": "https://localhost:8080/",
          "height": 50
        },
        "outputId": "6f14adf0-278a-49b2-e3dc-c69d19bf639c"
      },
      "source": [
        "train['sums'], test['sums'] = preprocessing(re_URL=False, re_emoji=False, re_punct=True)\n",
        "X_train = train['sums'].tolist()\n",
        "y_train = train['target'].tolist()\n",
        "X_test = test['sums'].tolist()\n",
        "\n",
        "vec = CountVectorizer(ngram_range=(1,2), lowercase=True, stop_words='english')\n",
        "clf = LogisticRegression()\n",
        "fit_and_predict(vec, clf, X_train, y_train)"
      ],
      "execution_count": null,
      "outputs": [
        {
          "output_type": "stream",
          "text": [
            "Punctuation Removed\n",
            "Accuracy:  0.796812749003984\n"
          ],
          "name": "stdout"
        }
      ]
    }
  ]
}